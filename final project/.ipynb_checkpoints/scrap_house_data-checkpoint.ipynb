{
 "cells": [
  {
   "cell_type": "code",
   "execution_count": 24,
   "metadata": {},
   "outputs": [
    {
     "data": {
      "text/plain": [
       "['https://www.zillow.com/homes/02128_rb/',\n",
       " 'https://www.zillow.com/homes/02129_rb/',\n",
       " 'https://www.zillow.com/homes/02210_rb/',\n",
       " 'https://www.zillow.com/homes/02118_rb/',\n",
       " 'https://www.zillow.com/homes/02127_rb/',\n",
       " 'https://www.zillow.com/homes/02125_rb/',\n",
       " 'https://www.zillow.com/homes/02119_rb/',\n",
       " 'https://www.zillow.com/homes/02121_rb/',\n",
       " 'https://www.zillow.com/homes/02124_rb/',\n",
       " 'https://www.zillow.com/homes/02126_rb/',\n",
       " 'https://www.zillow.com/homes/02130_rb/',\n",
       " 'https://www.zillow.com/homes/02131_rb/',\n",
       " 'https://www.zillow.com/homes/02132_rb/',\n",
       " 'https://www.zillow.com/homes/02136_rb/',\n",
       " 'https://www.zillow.com/homes/02134_rb/',\n",
       " 'https://www.zillow.com/homes/02135_rb/',\n",
       " 'https://www.zillow.com/homes/02115_rb/',\n",
       " 'https://www.zillow.com/homes/02215_rb/',\n",
       " 'https://www.zillow.com/homes/02445_rb']"
      ]
     },
     "execution_count": 24,
     "metadata": {},
     "output_type": "execute_result"
    }
   ],
   "source": [
    "url_list = []\n",
    "with open('url_list.txt') as urls:\n",
    "    for url in urls:\n",
    "        url = url[:len(url)-1]\n",
    "        url_list.append(url)\n",
    "url_list"
   ]
  },
  {
   "cell_type": "code",
   "execution_count": 25,
   "metadata": {
    "collapsed": true
   },
   "outputs": [],
   "source": [
    "zipcode_list = ['02128','02129','02210','02118','02127','02125','02119','02121','02124','02126',\n",
    "                '02130','02131','02132','02136','02134','02135','02115','02215','02445']"
   ]
  },
  {
   "cell_type": "code",
   "execution_count": 26,
   "metadata": {
    "collapsed": true
   },
   "outputs": [],
   "source": [
    "from selenium import webdriver\n",
    "from selenium.webdriver.common.by import By\n",
    "from selenium.webdriver.support.ui import WebDriverWait\n",
    "from selenium.webdriver.support import expected_conditions as EC\n",
    "import bs4\n",
    "import time\n",
    "import random"
   ]
  },
  {
   "cell_type": "code",
   "execution_count": 27,
   "metadata": {
    "collapsed": true
   },
   "outputs": [],
   "source": [
    "def get_result(url):\n",
    "    dic = {'price':[],'address':[],'others':[]}\n",
    "    driver.get(url)\n",
    "    count = 1\n",
    "    while(1):\n",
    "        driver.implicitly_wait(30)\n",
    "        content = driver.page_source\n",
    "        soup = bs4.BeautifulSoup(content,\"html.parser\")\n",
    "        for item in soup.find_all('article'):\n",
    "            for i in item.find_all('span'):\n",
    "                if (i.get('class') != None):\n",
    "                    if(i.get('class')[0] == 'zsg-photo-card-status'):\n",
    "                        if(i.text != 'Apartment For Rent' and i.text != 'Condo For Rent'):\n",
    "                            break\n",
    "                    if(i.get('class')[0] == 'zsg-photo-card-price'):\n",
    "                        dic['price'].append(i.text)\n",
    "                    if(i.get('class')[0] == 'zsg-photo-card-address'):\n",
    "                        dic['address'].append(i.text)\n",
    "                    if(i.get('class')[0] == 'zsg-photo-card-info'):\n",
    "                        dic['others'].append(i.text)\n",
    "        try:\n",
    "            button_next = WebDriverWait(driver, 60).until(\n",
    "                EC.presence_of_element_located((By.XPATH,\"//li[@class='zsg-pagination-next']\")))\n",
    "            button_next.click()\n",
    "            print(count)\n",
    "            count  = count + 1\n",
    "            sleep_time = random.randint(10,30)\n",
    "            time.sleep(sleep_time)\n",
    "        except:\n",
    "            return dic"
   ]
  },
  {
   "cell_type": "code",
   "execution_count": 28,
   "metadata": {},
   "outputs": [
    {
     "name": "stdout",
     "output_type": "stream",
     "text": [
      "02128\n",
      "1\n",
      "2\n",
      "3\n",
      "4\n",
      "5\n",
      "6\n",
      "7\n",
      "8\n",
      "9\n",
      "10\n",
      "11\n",
      "12\n",
      "13\n",
      "14\n",
      "15\n",
      "16\n",
      "17\n",
      "18\n",
      "19\n",
      "02129\n",
      "1\n",
      "2\n",
      "3\n",
      "4\n",
      "5\n",
      "6\n",
      "7\n",
      "02210\n",
      "1\n",
      "2\n",
      "3\n",
      "4\n",
      "5\n",
      "02118\n",
      "1\n",
      "2\n",
      "3\n",
      "4\n",
      "5\n",
      "6\n",
      "7\n",
      "8\n",
      "9\n",
      "10\n",
      "11\n",
      "12\n",
      "13\n",
      "14\n",
      "15\n",
      "16\n",
      "17\n",
      "18\n",
      "19\n",
      "02127\n",
      "1\n",
      "2\n",
      "3\n",
      "4\n",
      "5\n",
      "6\n",
      "7\n",
      "8\n",
      "9\n",
      "10\n",
      "11\n",
      "12\n",
      "13\n",
      "14\n",
      "15\n",
      "16\n",
      "17\n",
      "18\n",
      "19\n",
      "02125\n",
      "1\n",
      "2\n",
      "3\n",
      "4\n",
      "5\n",
      "6\n",
      "7\n",
      "8\n",
      "9\n",
      "10\n",
      "11\n",
      "12\n",
      "13\n",
      "14\n",
      "15\n",
      "02119\n",
      "1\n",
      "2\n",
      "3\n",
      "4\n",
      "5\n",
      "6\n",
      "7\n",
      "8\n",
      "9\n",
      "10\n",
      "11\n",
      "12\n",
      "13\n",
      "14\n",
      "15\n",
      "16\n",
      "17\n",
      "02121\n",
      "1\n",
      "2\n",
      "02124\n",
      "02126\n",
      "1\n",
      "2\n",
      "3\n",
      "02130\n",
      "1\n",
      "2\n",
      "3\n",
      "4\n",
      "5\n",
      "6\n",
      "7\n",
      "8\n",
      "9\n",
      "10\n",
      "11\n",
      "12\n",
      "13\n",
      "14\n",
      "15\n",
      "16\n",
      "17\n",
      "18\n",
      "19\n",
      "02131\n",
      "1\n",
      "2\n",
      "3\n",
      "4\n",
      "5\n",
      "6\n",
      "02132\n",
      "1\n",
      "2\n",
      "3\n",
      "4\n",
      "5\n",
      "02136\n",
      "1\n",
      "2\n",
      "02134\n",
      "02135\n",
      "02115\n",
      "02215\n",
      "02445\n"
     ]
    }
   ],
   "source": [
    "dic_zip = {}\n",
    "driver = webdriver.Chrome()\n",
    "for i in range(len(url_list)):\n",
    "    print(zipcode_list[i])\n",
    "    dic_zip[zipcode_list[i]] = get_result(url_list[i])"
   ]
  },
  {
   "cell_type": "code",
   "execution_count": 30,
   "metadata": {
    "collapsed": true
   },
   "outputs": [],
   "source": [
    "import pandas as pd"
   ]
  },
  {
   "cell_type": "code",
   "execution_count": 31,
   "metadata": {
    "collapsed": true
   },
   "outputs": [],
   "source": [
    "for item in dic_zip.keys():\n",
    "    df = pd.DataFrame(data = dic_zip[item])\n",
    "    df.to_csv(item+'.csv')"
   ]
  },
  {
   "cell_type": "code",
   "execution_count": null,
   "metadata": {
    "collapsed": true
   },
   "outputs": [],
   "source": []
  }
 ],
 "metadata": {
  "anaconda-cloud": {},
  "kernelspec": {
   "display_name": "Python [conda root]",
   "language": "python",
   "name": "conda-root-py"
  },
  "language_info": {
   "codemirror_mode": {
    "name": "ipython",
    "version": 3
   },
   "file_extension": ".py",
   "mimetype": "text/x-python",
   "name": "python",
   "nbconvert_exporter": "python",
   "pygments_lexer": "ipython3",
   "version": "3.5.3"
  }
 },
 "nbformat": 4,
 "nbformat_minor": 1
}
